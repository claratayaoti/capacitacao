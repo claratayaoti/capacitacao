{
  "nbformat": 4,
  "nbformat_minor": 0,
  "metadata": {
    "colab": {
      "provenance": [],
      "mount_file_id": "1MR6ILE3KPvE4d0HlGKeSt92xk8rMq05c",
      "authorship_tag": "ABX9TyOIFmslNk9/8WdLt4kivQ5o",
      "include_colab_link": true
    },
    "kernelspec": {
      "name": "python3",
      "display_name": "Python 3"
    },
    "language_info": {
      "name": "python"
    }
  },
  "cells": [
    {
      "cell_type": "markdown",
      "metadata": {
        "id": "view-in-github",
        "colab_type": "text"
      },
      "source": [
        "<a href=\"https://colab.research.google.com/github/claratayaoti/capacitacao/blob/main/webscraping_do.ipynb\" target=\"_parent\"><img src=\"https://colab.research.google.com/assets/colab-badge.svg\" alt=\"Open In Colab\"/></a>"
      ]
    },
    {
      "cell_type": "code",
      "source": [],
      "metadata": {
        "id": "h2LeLveDe53T"
      },
      "execution_count": null,
      "outputs": []
    },
    {
      "cell_type": "code",
      "execution_count": 9,
      "metadata": {
        "colab": {
          "base_uri": "https://localhost:8080/"
        },
        "id": "TYqCO6Tn9tjd",
        "outputId": "64ab4ee3-1eef-45f8-f75c-635352120bb2"
      },
      "outputs": [
        {
          "output_type": "stream",
          "name": "stdout",
          "text": [
            "Requirement already satisfied: PyMuPDF in /usr/local/lib/python3.11/dist-packages (1.25.3)\n",
            "Arquivos CSV gerados: 'decretos.csv' e 'portarias.csv'\n"
          ]
        }
      ],
      "source": [
        "!pip install PyMuPDF\n",
        "\n",
        "import requests\n",
        "import io\n",
        "import pymupdf as fitz  # PyMuPDF\n",
        "from datetime import datetime\n",
        "from datetime import date\n",
        "import pandas as pd\n",
        "import re\n",
        "\n",
        "# Dicionário para converter o nome do mês para a forma abreviada em português\n",
        "meses_portugues = {\n",
        "    \"01\": \"Jan\", \"02\": \"Fev\", \"03\": \"Mar\", \"04\": \"Abr\",\n",
        "    \"05\": \"Mai\", \"06\": \"Jun\", \"07\": \"Jul\", \"08\": \"Ago\",\n",
        "    \"09\": \"Set\", \"10\": \"Out\", \"11\": \"Nov\", \"12\": \"Dez\"\n",
        "}\n",
        "\n",
        "# Obter a data de hoje\n",
        "hoje = date.today()\n",
        "ano = hoje.strftime(\"%Y\")\n",
        "mes_numero = hoje.strftime(\"%m\")  # Exemplo: \"02\"\n",
        "dia = hoje.strftime(\"%d\")\n",
        "\n",
        "def gerar_url_diario_oficial():\n",
        "    \"\"\"Gera a URL do Diário Oficial de hoje.\"\"\"\n",
        "    mes_abreviado = meses_portugues[mes_numero]  # Exemplo: \"Fev\"\n",
        "    mes_extenso = f\"{mes_numero}_{mes_abreviado}\"  # Exemplo: \"02_Fev\"\n",
        "    return f\"https://diariooficial.niteroi.rj.gov.br/do/{ano}/{mes_extenso}/{dia}.pdf\"\n",
        "\n",
        "def extrair_texto_url(pdf_url):\n",
        "    \"\"\"Extrai texto de um PDF a partir de uma URL.\"\"\"\n",
        "    response = requests.get(pdf_url)\n",
        "    response.raise_for_status()\n",
        "\n",
        "    with io.BytesIO(response.content) as pdf_data:\n",
        "        with fitz.open(stream=pdf_data, filetype=\"pdf\") as doc:\n",
        "            texto = \"\"\n",
        "            for pagina in doc:\n",
        "                texto += pagina.get_text()\n",
        "            return texto\n",
        "\n",
        "# Obter a URL do Diário Oficial\n",
        "url_diario_oficial = gerar_url_diario_oficial()\n",
        "\n",
        "# Extrair o texto do PDF\n",
        "texto_diario_oficial = extrair_texto_url(url_diario_oficial)\n",
        "\n",
        "# Dividir o texto em linhas\n",
        "linhas = texto_diario_oficial.split('\\n')\n",
        "\n",
        "# Listas para armazenar os dados\n",
        "decretos = []\n",
        "portarias = []\n",
        "\n",
        "# Padrões de busca\n",
        "padrao_decreto = re.compile(r\"DECRETO N° (\\d+/\\d+)\")\n",
        "padrao_portaria_nomeacao = re.compile(r\"Port\\. Nº (\\d+/\\d+)- Nomeia ([A-Za-zÀ-ÿ\\s]+) para exercer o cargo de ([A-Za-zÀ-ÿ\\s,]+), ([A-Za-zÀ-ÿ\\s]+), (da|do) ([A-Za-zÀ-ÿ\\s]+)\")\n",
        "padrao_portaria_exoneracao = re.compile(r\"Port\\. Nº (\\d+/\\d+)- (Exonera|Exonerar|Exonera, a pedido,|Exonerar, a pedido,) ([A-Za-zÀ-ÿ\\s]+) do cargo de ([A-Za-zÀ-ÿ\\s,]+), ([A-Za-zÀ-ÿ\\s]+), (da|do) ([A-Za-zÀ-ÿ\\s]+)\")\n",
        "\n",
        "# Percorrer as linhas do texto\n",
        "\n",
        "for i, linha in enumerate(linhas):\n",
        "    # Capturar decretos\n",
        "    match = padrao_decreto.search(linha)\n",
        "    if match:\n",
        "        decreto_text = match.group(0)  # Start with the matched decree line\n",
        "        j = i + 1  # Start from the next line\n",
        "        while j < len(linhas) and \"RODRIGO NEVES – PREFEITO\" not in linhas[j]:\n",
        "            decreto_text += \"\\n\" + linhas[j]  # Append subsequent lines\n",
        "            j += 1\n",
        "        decretos.append(decreto_text)  # Append the entire decree text\n",
        "\n",
        "    # Capturar portarias (nomeação e exoneração)\n",
        "for padrao in [padrao_portaria_nomeacao, padrao_portaria_exoneracao]:\n",
        "        match = padrao.search(linha)\n",
        "        if match:\n",
        "            numero_portaria = match.group(1)\n",
        "            tipo = \"Nomeação\" if padrao is padrao_portaria_nomeacao else \"Exoneração\"\n",
        "            nome = match.group(2).strip()\n",
        "            cargo = match.group(3).strip()\n",
        "            codigo_cargo = match.group(4).strip()\n",
        "            orgao = match.group(5).strip()\n",
        "\n",
        "            # Encontrar o texto até o ponto final após o nome\n",
        "            texto_apos_nome = linha[linha.find(nome) + len(nome):]\n",
        "            texto_ate_ponto = texto_apos_nome[:texto_apos_nome.find(\".\") + 1].strip()\n",
        "\n",
        "            portarias.append([numero_portaria, tipo, nome, cargo, codigo_cargo, orgao, texto_ate_ponto])  # Adiciona o texto completo\n",
        "            break  # Sai do loop interno se encontrar uma correspondência\n",
        "\n",
        "# Criar DataFrame para os Decretos\n",
        "df_decretos = pd.DataFrame(decretos, columns=[\"Texto Completo\"])\n",
        "\n",
        "# Criar DataFrame para as Portarias\n",
        "df_portarias = pd.DataFrame(portarias, columns=[\"Número\", \"Tipo\", \"Nome\", \"Cargo\", \"Código\", \"Órgão\"])\n",
        "\n",
        "# Salvar como CSV\n",
        "df_decretos.to_csv(f\"{dia}_decretos.csv\", index=False, encoding=\"utf-8\")\n",
        "df_portarias.to_csv(f\"{dia}_portarias.csv\", index=False, encoding=\"utf-8\")\n",
        "\n",
        "print(\"Arquivos CSV gerados: 'decretos.csv' e 'portarias.csv'\")"
      ]
    },
    {
      "cell_type": "markdown",
      "source": [],
      "metadata": {
        "id": "vQ2uREY5ziEH"
      }
    },
    {
      "cell_type": "code",
      "source": [],
      "metadata": {
        "id": "VDIrzNwek742"
      },
      "execution_count": null,
      "outputs": []
    }
  ]
}